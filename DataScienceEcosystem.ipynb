{
 "cells": [
  {
   "cell_type": "markdown",
   "id": "b54d0aa9-fac3-43c7-bda7-4e60cd224830",
   "metadata": {},
   "source": [
    "# Data Science Tools and Ecosystem"
   ]
  },
  {
   "cell_type": "markdown",
   "id": "71d53bfc-ce3f-45a6-adf1-c92a79f6bee2",
   "metadata": {},
   "source": [
    "# In this notebook, Data Science Tools and Ecosystem are summarized."
   ]
  },
  {
   "cell_type": "markdown",
   "id": "d28c90c2-a9d2-4f6d-943e-196c64a48ca7",
   "metadata": {},
   "source": [
    "# **Objectives:**\n",
    "- Poppular languages\n",
    "- libraries\n",
    "- Table in markdow\n",
    "- Arithmatic Expressions"
   ]
  },
  {
   "cell_type": "markdown",
   "id": "2f616a76-eddf-4e1b-ae7a-8070496aba57",
   "metadata": {},
   "source": [
    "## Author\n",
    "Pankaj"
   ]
  },
  {
   "cell_type": "markdown",
   "id": "f3934b2b-2a1f-4d2d-a83d-ccefbce29eee",
   "metadata": {},
   "source": [
    "# Some of the popular languages that Data Scientists use are:\n",
    "1. python\n",
    "2. R\n",
    "3. SQL"
   ]
  },
  {
   "cell_type": "markdown",
   "id": "f3c5eb9d-21fd-497d-a3c9-13f439d053cd",
   "metadata": {},
   "source": [
    "# Some of the commonly used libraries used by Data Scientists include:\n",
    "- Pandas\n",
    "- Matplotlib\n",
    "- Numpy"
   ]
  },
  {
   "cell_type": "markdown",
   "id": "9c60c768-ce67-484c-81e6-8eefdb338242",
   "metadata": {},
   "source": [
    "# \n",
    "|Data Science Tools|\n",
    "|------------------|\n",
    "|Jupyter Notebook |\n",
    "|R Studio |\n",
    "|Apache Zepellin |"
   ]
  },
  {
   "cell_type": "markdown",
   "id": "5a9a3d39-02ea-47a3-8439-98974e3b5f82",
   "metadata": {},
   "source": [
    "### Below are a few examples of evaluating arithmetic expressions in Python."
   ]
  },
  {
   "cell_type": "code",
   "execution_count": 18,
   "id": "3aa30309-e2f3-473b-818e-3854b4054ab1",
   "metadata": {},
   "outputs": [
    {
     "data": {
      "text/plain": [
       "17"
      ]
     },
     "execution_count": 18,
     "metadata": {},
     "output_type": "execute_result"
    }
   ],
   "source": [
    "#This a simple arithmetic expression to mutiply then add integers\n",
    "\n",
    "(3*4)+5"
   ]
  },
  {
   "cell_type": "code",
   "execution_count": 22,
   "id": "481492df-9d5c-44f0-b486-a679ad147d18",
   "metadata": {},
   "outputs": [
    {
     "data": {
      "text/plain": [
       "3.3333333333333335"
      ]
     },
     "execution_count": 22,
     "metadata": {},
     "output_type": "execute_result"
    }
   ],
   "source": [
    "#This will convert 200 minutes to hours by diving by 60\n",
    "\n",
    "200/60"
   ]
  },
  {
   "cell_type": "code",
   "execution_count": null,
   "id": "2b10db97-4c40-4ce5-b06f-4acf38ea6e8f",
   "metadata": {},
   "outputs": [],
   "source": []
  }
 ],
 "metadata": {
  "kernelspec": {
   "display_name": "anaconda-panel-2023.05-py310",
   "language": "python",
   "name": "conda-env-anaconda-panel-2023.05-py310-py"
  },
  "language_info": {
   "codemirror_mode": {
    "name": "ipython",
    "version": 3
   },
   "file_extension": ".py",
   "mimetype": "text/x-python",
   "name": "python",
   "nbconvert_exporter": "python",
   "pygments_lexer": "ipython3",
   "version": "3.11.5"
  }
 },
 "nbformat": 4,
 "nbformat_minor": 5
}
